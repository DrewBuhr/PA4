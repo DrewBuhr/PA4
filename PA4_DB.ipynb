{
 "cells": [
  {
   "cell_type": "markdown",
   "id": "916cba41",
   "metadata": {},
   "source": [
    "append() allows you to add an element to the end of a list"
   ]
  },
  {
   "cell_type": "code",
   "execution_count": 3,
   "id": "2a9599a4",
   "metadata": {},
   "outputs": [],
   "source": [
    "list1=[1,2,3]"
   ]
  },
  {
   "cell_type": "code",
   "execution_count": 5,
   "id": "f5fd77f3",
   "metadata": {},
   "outputs": [
    {
     "data": {
      "text/plain": [
       "[1, 2, 3, 4, 4]"
      ]
     },
     "execution_count": 5,
     "metadata": {},
     "output_type": "execute_result"
    }
   ],
   "source": [
    "list1.append(4) #appended twice that's why there are 2 4's\n",
    "list1"
   ]
  },
  {
   "cell_type": "markdown",
   "id": "105c0759",
   "metadata": {},
   "source": [
    "extend() allows you to add multiple elements in the form of a list onto an existing list"
   ]
  },
  {
   "cell_type": "code",
   "execution_count": 6,
   "id": "5249514f",
   "metadata": {},
   "outputs": [],
   "source": [
    "list2=[1,2,3]"
   ]
  },
  {
   "cell_type": "code",
   "execution_count": 7,
   "id": "0cffa95f",
   "metadata": {},
   "outputs": [
    {
     "data": {
      "text/plain": [
       "[1, 2, 3, 4, 5, 6]"
      ]
     },
     "execution_count": 7,
     "metadata": {},
     "output_type": "execute_result"
    }
   ],
   "source": [
    "list2.extend([4,5,6])\n",
    "list2"
   ]
  },
  {
   "cell_type": "markdown",
   "id": "d840b665",
   "metadata": {},
   "source": [
    "insert() allows you to insert an element into a list at any position not just the end"
   ]
  },
  {
   "cell_type": "code",
   "execution_count": 8,
   "id": "6abfd233",
   "metadata": {},
   "outputs": [],
   "source": [
    "list3=[10,20,30,40]"
   ]
  },
  {
   "cell_type": "code",
   "execution_count": 9,
   "id": "31d1b61a",
   "metadata": {},
   "outputs": [
    {
     "data": {
      "text/plain": [
       "[10, 20, 100, 30, 40]"
      ]
     },
     "execution_count": 9,
     "metadata": {},
     "output_type": "execute_result"
    }
   ],
   "source": [
    "list3.insert(2,100)\n",
    "list3"
   ]
  },
  {
   "cell_type": "markdown",
   "id": "f7247fd3",
   "metadata": {},
   "source": [
    "remove() allows you to permanately remove any element (the first occurence if it appears multiple times) from a list"
   ]
  },
  {
   "cell_type": "code",
   "execution_count": 10,
   "id": "39abed08",
   "metadata": {},
   "outputs": [],
   "source": [
    "list4=[100,200,20,300,400]"
   ]
  },
  {
   "cell_type": "code",
   "execution_count": 11,
   "id": "64bcc7eb",
   "metadata": {},
   "outputs": [
    {
     "data": {
      "text/plain": [
       "[100, 200, 300, 400]"
      ]
     },
     "execution_count": 11,
     "metadata": {},
     "output_type": "execute_result"
    }
   ],
   "source": [
    "list4.remove(20)\n",
    "list4"
   ]
  },
  {
   "cell_type": "markdown",
   "id": "a61784c0",
   "metadata": {},
   "source": [
    "count() counts how many times a specific element appears in a list and returns it"
   ]
  },
  {
   "cell_type": "code",
   "execution_count": 12,
   "id": "51631e26",
   "metadata": {},
   "outputs": [],
   "source": [
    "list5=[1, 2, 2, 1, 4, 3, 0 ,1]"
   ]
  },
  {
   "cell_type": "code",
   "execution_count": 15,
   "id": "68edddcd",
   "metadata": {},
   "outputs": [
    {
     "data": {
      "text/plain": [
       "3"
      ]
     },
     "execution_count": 15,
     "metadata": {},
     "output_type": "execute_result"
    }
   ],
   "source": [
    "list5.count(1)"
   ]
  },
  {
   "cell_type": "markdown",
   "id": "5af0e867",
   "metadata": {},
   "source": [
    "index() tells you the position of an element(first occurence of that element) if it appears in the list"
   ]
  },
  {
   "cell_type": "code",
   "execution_count": 16,
   "id": "7d297b1e",
   "metadata": {},
   "outputs": [],
   "source": [
    "list6=[3,5,3,6,7,8]"
   ]
  },
  {
   "cell_type": "code",
   "execution_count": 18,
   "id": "a9d703bf",
   "metadata": {},
   "outputs": [
    {
     "data": {
      "text/plain": [
       "3"
      ]
     },
     "execution_count": 18,
     "metadata": {},
     "output_type": "execute_result"
    }
   ],
   "source": [
    "list6.index(6)"
   ]
  },
  {
   "cell_type": "markdown",
   "id": "7352014b",
   "metadata": {},
   "source": [
    "pop() removes an element at a certain index and returns the element that it removed"
   ]
  },
  {
   "cell_type": "code",
   "execution_count": 19,
   "id": "07dc2a1f",
   "metadata": {},
   "outputs": [],
   "source": [
    "list7=[1,2,3,4,4,5]"
   ]
  },
  {
   "cell_type": "code",
   "execution_count": 20,
   "id": "2c16ed70",
   "metadata": {},
   "outputs": [
    {
     "data": {
      "text/plain": [
       "4"
      ]
     },
     "execution_count": 20,
     "metadata": {},
     "output_type": "execute_result"
    }
   ],
   "source": [
    "list7.pop(3)"
   ]
  },
  {
   "cell_type": "code",
   "execution_count": 21,
   "id": "a3df94f2",
   "metadata": {},
   "outputs": [
    {
     "data": {
      "text/plain": [
       "[1, 2, 3, 4, 5]"
      ]
     },
     "execution_count": 21,
     "metadata": {},
     "output_type": "execute_result"
    }
   ],
   "source": [
    "list7"
   ]
  },
  {
   "cell_type": "markdown",
   "id": "87496c01",
   "metadata": {},
   "source": [
    "sorted() temporarily sorts a list into chronological order while not changing the lis"
   ]
  },
  {
   "cell_type": "code",
   "execution_count": 23,
   "id": "de991a6e",
   "metadata": {},
   "outputs": [],
   "source": [
    "list8=[4,6,8,3,4,1]"
   ]
  },
  {
   "cell_type": "code",
   "execution_count": 24,
   "id": "ab4a371b",
   "metadata": {},
   "outputs": [
    {
     "data": {
      "text/plain": [
       "[1, 3, 4, 4, 6, 8]"
      ]
     },
     "execution_count": 24,
     "metadata": {},
     "output_type": "execute_result"
    }
   ],
   "source": [
    "sorted(list8)"
   ]
  },
  {
   "cell_type": "code",
   "execution_count": 25,
   "id": "c1fd6c94",
   "metadata": {},
   "outputs": [
    {
     "data": {
      "text/plain": [
       "[4, 6, 8, 3, 4, 1]"
      ]
     },
     "execution_count": 25,
     "metadata": {},
     "output_type": "execute_result"
    }
   ],
   "source": [
    "list8"
   ]
  },
  {
   "cell_type": "markdown",
   "id": "6fe94257",
   "metadata": {},
   "source": [
    "copy() allows you to copy a list into a different list therfore you could change things in the copied list without changing the original list"
   ]
  },
  {
   "cell_type": "code",
   "execution_count": 26,
   "id": "1e862ae7",
   "metadata": {},
   "outputs": [],
   "source": [
    "list9=[\"Hello\", 4,45, 8] "
   ]
  },
  {
   "cell_type": "code",
   "execution_count": 27,
   "id": "471e380f",
   "metadata": {},
   "outputs": [
    {
     "data": {
      "text/plain": [
       "['Hello', 4, 45, 8]"
      ]
     },
     "execution_count": 27,
     "metadata": {},
     "output_type": "execute_result"
    }
   ],
   "source": [
    "c1=list9.copy()\n",
    "c1"
   ]
  },
  {
   "cell_type": "markdown",
   "id": "acef5f07",
   "metadata": {},
   "source": [
    "clear() permanently removes all elements from a list"
   ]
  },
  {
   "cell_type": "code",
   "execution_count": 28,
   "id": "9dd0d712",
   "metadata": {},
   "outputs": [],
   "source": [
    "list10=[3,7,95,60]"
   ]
  },
  {
   "cell_type": "code",
   "execution_count": 31,
   "id": "6a844637",
   "metadata": {},
   "outputs": [],
   "source": [
    "list10.clear()"
   ]
  },
  {
   "cell_type": "code",
   "execution_count": 32,
   "id": "6f4081f8",
   "metadata": {},
   "outputs": [
    {
     "data": {
      "text/plain": [
       "[]"
      ]
     },
     "execution_count": 32,
     "metadata": {},
     "output_type": "execute_result"
    }
   ],
   "source": [
    "list10"
   ]
  },
  {
   "cell_type": "markdown",
   "id": "28c3f949",
   "metadata": {},
   "source": [
    "any() allows you to iterably check every element of the list with a conditiona and it will return either true or false. If any of the elements of the list meet the condition it will return True."
   ]
  },
  {
   "cell_type": "code",
   "execution_count": 34,
   "id": "45fdd55d",
   "metadata": {},
   "outputs": [],
   "source": [
    "list11=[1,2,3,6,8,9]"
   ]
  },
  {
   "cell_type": "code",
   "execution_count": 40,
   "id": "0d47c33e",
   "metadata": {},
   "outputs": [
    {
     "data": {
      "text/plain": [
       "True"
      ]
     },
     "execution_count": 40,
     "metadata": {},
     "output_type": "execute_result"
    }
   ],
   "source": [
    "any(list11)<10"
   ]
  },
  {
   "cell_type": "code",
   "execution_count": 41,
   "id": "e1ad2a20",
   "metadata": {},
   "outputs": [
    {
     "data": {
      "text/plain": [
       "True"
      ]
     },
     "execution_count": 41,
     "metadata": {},
     "output_type": "execute_result"
    }
   ],
   "source": [
    "any(list11)<5"
   ]
  },
  {
   "cell_type": "code",
   "execution_count": 39,
   "id": "1301269b",
   "metadata": {},
   "outputs": [
    {
     "data": {
      "text/plain": [
       "False"
      ]
     },
     "execution_count": 39,
     "metadata": {},
     "output_type": "execute_result"
    }
   ],
   "source": [
    "any(list11)>10"
   ]
  },
  {
   "cell_type": "markdown",
   "id": "f8d47e5a",
   "metadata": {},
   "source": [
    "filter() returns a new list of elements that are true for the function"
   ]
  },
  {
   "cell_type": "code",
   "execution_count": 42,
   "id": "078b9fb1",
   "metadata": {},
   "outputs": [],
   "source": [
    "import random \n",
    "list12=[random.randrange(1,11) for i in range(10)]"
   ]
  },
  {
   "cell_type": "code",
   "execution_count": 43,
   "id": "28328ca7",
   "metadata": {},
   "outputs": [
    {
     "data": {
      "text/plain": [
       "[7, 9, 2, 10, 4, 10, 7, 6, 1, 4]"
      ]
     },
     "execution_count": 43,
     "metadata": {},
     "output_type": "execute_result"
    }
   ],
   "source": [
    "list12"
   ]
  },
  {
   "cell_type": "code",
   "execution_count": 46,
   "id": "8bdecb43",
   "metadata": {},
   "outputs": [
    {
     "data": {
      "text/plain": [
       "[7, 9, 10, 10, 7, 6]"
      ]
     },
     "execution_count": 46,
     "metadata": {},
     "output_type": "execute_result"
    }
   ],
   "source": [
    "def greater_5(x):\n",
    "    if x>5:\n",
    "        return x\n",
    "list(filter(greater_5, list12))"
   ]
  },
  {
   "cell_type": "markdown",
   "id": "52e127d2",
   "metadata": {},
   "source": [
    "list() returns elements in Python in a list. Used most when transforming tuples into lists"
   ]
  },
  {
   "cell_type": "code",
   "execution_count": 53,
   "id": "fead41d1",
   "metadata": {},
   "outputs": [],
   "source": [
    "tuple1=(1,3,4,5,3)"
   ]
  },
  {
   "cell_type": "code",
   "execution_count": 54,
   "id": "5b59f49e",
   "metadata": {},
   "outputs": [
    {
     "data": {
      "text/plain": [
       "[1, 3, 4, 5, 3]"
      ]
     },
     "execution_count": 54,
     "metadata": {},
     "output_type": "execute_result"
    }
   ],
   "source": [
    "list(tuple1)"
   ]
  },
  {
   "cell_type": "markdown",
   "id": "6b9cede4",
   "metadata": {},
   "source": [
    "map() returns a list of elements that define the function but also returns \"none\" if it does not define the function"
   ]
  },
  {
   "cell_type": "code",
   "execution_count": 55,
   "id": "6c2e4071",
   "metadata": {},
   "outputs": [],
   "source": [
    "list13=[1,7,8,5,10,13,40]"
   ]
  },
  {
   "cell_type": "code",
   "execution_count": 56,
   "id": "cf5c238f",
   "metadata": {},
   "outputs": [
    {
     "data": {
      "text/plain": [
       "[None, 7, 8, None, 10, 13, 40]"
      ]
     },
     "execution_count": 56,
     "metadata": {},
     "output_type": "execute_result"
    }
   ],
   "source": [
    "list(map(greater_5,list13))"
   ]
  },
  {
   "cell_type": "markdown",
   "id": "ebb1295f",
   "metadata": {},
   "source": [
    "### b.)"
   ]
  },
  {
   "cell_type": "markdown",
   "id": "309e6e29",
   "metadata": {},
   "source": [
    "cmp() is used to compare elements in seperate tuples. If the first tuple compared to the second is smaller in value it will return '-1', if it greater than it will return '1', and if it was the exact same data '0'"
   ]
  },
  {
   "cell_type": "code",
   "execution_count": 59,
   "id": "b328d891",
   "metadata": {},
   "outputs": [],
   "source": [
    "tuple1, tuple2= (145, 400), (200, 600)"
   ]
  },
  {
   "cell_type": "code",
   "execution_count": 62,
   "id": "5ca8c7cc",
   "metadata": {},
   "outputs": [
    {
     "ename": "NameError",
     "evalue": "name 'cmp' is not defined",
     "output_type": "error",
     "traceback": [
      "\u001b[1;31m---------------------------------------------------------------------------\u001b[0m",
      "\u001b[1;31mNameError\u001b[0m                                 Traceback (most recent call last)",
      "\u001b[1;32m<ipython-input-62-1ae4a221e031>\u001b[0m in \u001b[0;36m<module>\u001b[1;34m\u001b[0m\n\u001b[1;32m----> 1\u001b[1;33m \u001b[0mcmp\u001b[0m\u001b[1;33m(\u001b[0m\u001b[0mtuple1\u001b[0m\u001b[1;33m,\u001b[0m \u001b[0mtuple2\u001b[0m\u001b[1;33m)\u001b[0m \u001b[1;31m# for some reason the funtion isn't working\u001b[0m\u001b[1;33m\u001b[0m\u001b[1;33m\u001b[0m\u001b[0m\n\u001b[0m",
      "\u001b[1;31mNameError\u001b[0m: name 'cmp' is not defined"
     ]
    }
   ],
   "source": [
    "cmp(tuple1, tuple2) # for some reason the funtion isn't working"
   ]
  },
  {
   "cell_type": "markdown",
   "id": "a979718d",
   "metadata": {},
   "source": [
    "len() returns the number of elements in the tuple"
   ]
  },
  {
   "cell_type": "code",
   "execution_count": 63,
   "id": "911600e9",
   "metadata": {},
   "outputs": [],
   "source": [
    "tuple3=(3,\"hey\", 5, 7, 40)"
   ]
  },
  {
   "cell_type": "code",
   "execution_count": 64,
   "id": "20d1ce68",
   "metadata": {},
   "outputs": [
    {
     "data": {
      "text/plain": [
       "5"
      ]
     },
     "execution_count": 64,
     "metadata": {},
     "output_type": "execute_result"
    }
   ],
   "source": [
    "len(tuple3)"
   ]
  },
  {
   "cell_type": "markdown",
   "id": "3cd0f14b",
   "metadata": {},
   "source": [
    "max() returns the elements of the highest value from the tuple"
   ]
  },
  {
   "cell_type": "code",
   "execution_count": 65,
   "id": "96a2c32c",
   "metadata": {},
   "outputs": [],
   "source": [
    "tuple4=[1,70,500,4,34]"
   ]
  },
  {
   "cell_type": "code",
   "execution_count": 66,
   "id": "6df9c516",
   "metadata": {},
   "outputs": [
    {
     "data": {
      "text/plain": [
       "500"
      ]
     },
     "execution_count": 66,
     "metadata": {},
     "output_type": "execute_result"
    }
   ],
   "source": [
    "max(tuple4)"
   ]
  },
  {
   "cell_type": "markdown",
   "id": "fe58ab2f",
   "metadata": {},
   "source": [
    "tuple(seq) converts seq which could be elements or list into a tuple"
   ]
  },
  {
   "cell_type": "code",
   "execution_count": 67,
   "id": "514ed7c0",
   "metadata": {},
   "outputs": [],
   "source": [
    "hw=[34,57,40,3]"
   ]
  },
  {
   "cell_type": "code",
   "execution_count": 68,
   "id": "8a484d85",
   "metadata": {},
   "outputs": [
    {
     "data": {
      "text/plain": [
       "(34, 57, 40, 3)"
      ]
     },
     "execution_count": 68,
     "metadata": {},
     "output_type": "execute_result"
    }
   ],
   "source": [
    "tuple(hw)"
   ]
  },
  {
   "cell_type": "markdown",
   "id": "c13a769f",
   "metadata": {},
   "source": [
    "## PA4, Drew Buhr, CS-150-01"
   ]
  }
 ],
 "metadata": {
  "kernelspec": {
   "display_name": "Python 3",
   "language": "python",
   "name": "python3"
  },
  "language_info": {
   "codemirror_mode": {
    "name": "ipython",
    "version": 3
   },
   "file_extension": ".py",
   "mimetype": "text/x-python",
   "name": "python",
   "nbconvert_exporter": "python",
   "pygments_lexer": "ipython3",
   "version": "3.8.8"
  }
 },
 "nbformat": 4,
 "nbformat_minor": 5
}
